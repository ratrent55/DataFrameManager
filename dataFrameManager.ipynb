{
 "cells": [
  {
   "cell_type": "markdown",
   "id": "beb2f8c1",
   "metadata": {},
   "source": [
    "# Data Frame Manager"
   ]
  },
  {
   "cell_type": "code",
   "execution_count": 1,
   "id": "3fa4e7d5",
   "metadata": {},
   "outputs": [
    {
     "data": {
      "text/plain": [
       "<subprocess.Popen at 0x1b8049e5a30>"
      ]
     },
     "execution_count": 1,
     "metadata": {},
     "output_type": "execute_result"
    }
   ],
   "source": [
    "import subprocess\n",
    "# Opens system File Manager\n",
    "subprocess.Popen([\"Python\", \"DataFrameManager.py\"])"
   ]
  }
 ],
 "metadata": {
  "kernelspec": {
   "display_name": "recpy",
   "language": "python",
   "name": "python3"
  },
  "language_info": {
   "codemirror_mode": {
    "name": "ipython",
    "version": 3
   },
   "file_extension": ".py",
   "mimetype": "text/x-python",
   "name": "python",
   "nbconvert_exporter": "python",
   "pygments_lexer": "ipython3",
   "version": "3.8.18"
  }
 },
 "nbformat": 4,
 "nbformat_minor": 5
}
